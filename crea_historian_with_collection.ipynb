{
 "cells": [
  {
   "cell_type": "code",
   "execution_count": 5,
   "id": "elegant-excellence",
   "metadata": {},
   "outputs": [
    {
     "data": {
      "text/html": [
       "<div>\n",
       "<style scoped>\n",
       "    .dataframe tbody tr th:only-of-type {\n",
       "        vertical-align: middle;\n",
       "    }\n",
       "\n",
       "    .dataframe tbody tr th {\n",
       "        vertical-align: top;\n",
       "    }\n",
       "\n",
       "    .dataframe thead th {\n",
       "        text-align: right;\n",
       "    }\n",
       "</style>\n",
       "<table border=\"1\" class=\"dataframe\">\n",
       "  <thead>\n",
       "    <tr style=\"text-align: right;\">\n",
       "      <th></th>\n",
       "      <th>Historian</th>\n",
       "      <th>Collection</th>\n",
       "    </tr>\n",
       "  </thead>\n",
       "  <tbody>\n",
       "    <tr>\n",
       "      <th>0</th>\n",
       "      <td>http://www.wikidata.org/entity/Q995470</td>\n",
       "      <td>https://w3id.org/artchives/collectionnachlass-...</td>\n",
       "    </tr>\n",
       "    <tr>\n",
       "      <th>1</th>\n",
       "      <td>http://www.wikidata.org/entity/Q1089074</td>\n",
       "      <td>https://w3id.org/artchives/collectionfototeca-...</td>\n",
       "    </tr>\n",
       "    <tr>\n",
       "      <th>2</th>\n",
       "      <td>http://www.wikidata.org/entity/Q61913691</td>\n",
       "      <td>https://w3id.org/artchives/collectionarchivio-...</td>\n",
       "    </tr>\n",
       "    <tr>\n",
       "      <th>3</th>\n",
       "      <td>http://www.wikidata.org/entity/Q1715096</td>\n",
       "      <td>https://w3id.org/artchives/collectionulrich-mi...</td>\n",
       "    </tr>\n",
       "    <tr>\n",
       "      <th>4</th>\n",
       "      <td>http://www.wikidata.org/entity/Q88907</td>\n",
       "      <td>https://w3id.org/artchives/collectionernst-kit...</td>\n",
       "    </tr>\n",
       "  </tbody>\n",
       "</table>\n",
       "</div>"
      ],
      "text/plain": [
       "                                  Historian  \\\n",
       "0    http://www.wikidata.org/entity/Q995470   \n",
       "1   http://www.wikidata.org/entity/Q1089074   \n",
       "2  http://www.wikidata.org/entity/Q61913691   \n",
       "3   http://www.wikidata.org/entity/Q1715096   \n",
       "4     http://www.wikidata.org/entity/Q88907   \n",
       "\n",
       "                                          Collection  \n",
       "0  https://w3id.org/artchives/collectionnachlass-...  \n",
       "1  https://w3id.org/artchives/collectionfototeca-...  \n",
       "2  https://w3id.org/artchives/collectionarchivio-...  \n",
       "3  https://w3id.org/artchives/collectionulrich-mi...  \n",
       "4  https://w3id.org/artchives/collectionernst-kit...  "
      ]
     },
     "execution_count": 5,
     "metadata": {},
     "output_type": "execute_result"
    }
   ],
   "source": [
    "import rdflib\n",
    "import csv\n",
    "\n",
    "\n",
    "# create an empty Graph\n",
    "g = rdflib.ConjunctiveGraph()\n",
    "\n",
    "# parse a local RDF file by specifying the format\n",
    "result = g.parse(\"resources/artchives.nq\", format='nquads') #posso usare anche il file artchives.nq\n",
    "\n",
    "#RICORDA!!! la collezione ha come wft:P170 un historian e non il contrario!!!\n",
    "qres = g.query(\n",
    "  \"\"\"PREFIX wdt: <http://www.wikidata.org/prop/direct/>\n",
    "  SELECT DISTINCT  ?historian ?collection\n",
    "  WHERE { \n",
    "     ?collection wdt:P170 ?historian .\n",
    "     }\n",
    "    \"\"\")\n",
    "#NOTA BENE: LA QUERY P170 NON C'è IN ARTCHIVES3_BIRTHPLACES, c'è in ARTCHIVES, bisogna combinare file e dataframes :) \n",
    "with open('historian_with_collection.csv', 'wt') as out_file:\n",
    "    csv_writer = csv.writer(out_file, delimiter=',')\n",
    "    csv_writer.writerow(['Historian', 'Collection'])\n",
    "    for row in qres:\n",
    "        csv_writer.writerow([row.historian, row.collection])\n",
    "        \n",
    "import pandas as pd\n",
    "data = pd.read_csv('historian_with_collection.csv', encoding = 'Latin-1')\n",
    "# print the first 5 rows\n",
    "data.head()"
   ]
  },
  {
   "cell_type": "code",
   "execution_count": null,
   "id": "tired-melbourne",
   "metadata": {},
   "outputs": [],
   "source": []
  },
  {
   "cell_type": "code",
   "execution_count": null,
   "id": "egyptian-recruitment",
   "metadata": {},
   "outputs": [],
   "source": []
  }
 ],
 "metadata": {
  "kernelspec": {
   "display_name": "Python 3",
   "language": "python",
   "name": "python3"
  },
  "language_info": {
   "codemirror_mode": {
    "name": "ipython",
    "version": 3
   },
   "file_extension": ".py",
   "mimetype": "text/x-python",
   "name": "python",
   "nbconvert_exporter": "python",
   "pygments_lexer": "ipython3",
   "version": "3.9.1"
  }
 },
 "nbformat": 4,
 "nbformat_minor": 5
}
