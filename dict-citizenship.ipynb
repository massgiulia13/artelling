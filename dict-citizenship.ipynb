{
 "cells": [
  {
   "cell_type": "code",
   "execution_count": 2,
   "id": "departmental-internship",
   "metadata": {},
   "outputs": [
    {
     "name": "stdout",
     "output_type": "stream",
     "text": [
      "England\n",
      "Hungary\n",
      "Germany\n",
      "United States of America\n",
      "Italy\n",
      "Russia\n",
      "{'http://www.wikidata.org/entity/Q38': '6', 'http://www.wikidata.org/entity/Q30': '2', 'http://www.wikidata.org/entity/Q183': '12', 'http://www.wikidata.org/entity/Q21': '2', 'http://www.wikidata.org/entity/Q159': '1', 'http://www.wikidata.org/entity/Q28': '1'}\n"
     ]
    }
   ],
   "source": [
    "import rdflib\n",
    "from rdflib import Namespace , Literal , URIRef\n",
    "from rdflib.namespace import RDF , RDFS\n",
    "\n",
    "# bind the uncommon namespaces\n",
    "wd = Namespace(\"http://www.wikidata.org/entity/\") # remember that a prefix matches a URI until the last slash (or hashtag #)\n",
    "wdt = Namespace(\"http://www.wikidata.org/prop/direct/\")\n",
    "art = Namespace(\"https://w3id.org/artchives/\")\n",
    "\n",
    "\n",
    "# create an empty Graph\n",
    "g = rdflib.ConjunctiveGraph()\n",
    "world = dict()\n",
    "\n",
    "# parse a local RDF file by specifying the format\n",
    "result = g.parse(\"resources/artchives.nq\", format='nquads')\n",
    "\n",
    "unique_countries = set()\n",
    "for s,p,o in g.triples(( None, wdt.P27, None)):   # people \"o\" are the creator \"wdt.P170\" of a collection \"s\"\n",
    "    for s1,p1,o1 in g.triples(( o, RDFS.label, None)):  \n",
    "        unique_countries.add(o1.strip())\n",
    "for country in unique_countries:\n",
    "    print(country)\n",
    "    \n",
    "query_result = g.query(\"\"\"\n",
    "PREFIX rdf: <http://www.w3.org/1999/02/22-rdf-syntax-ns#>\n",
    "PREFIX rdfs: <http://www.w3.org/2000/01/rdf-schema#>\n",
    "PREFIX wd: <http://www.wikidata.org/entity/> \n",
    "SELECT DISTINCT (COUNT(?individual) AS ?ind) ?country ?name\n",
    "WHERE {\n",
    "    VALUES ?class {<http://www.wikidata.org/entity/Q5>}\n",
    "    VALUES ?property{<http://www.wikidata.org/prop/direct/P27>}\n",
    "    ?individual rdf:type ?class ; \n",
    "                ?property ?country .\n",
    "    ?country rdfs:label ?name\n",
    "}\n",
    "GROUP BY ?name ?country\n",
    "\"\"\")\n",
    "\n",
    "for query_res in query_result:\n",
    "    world.update({str(query_res[\"country\"]):str(query_res[\"ind\"])})\n",
    "print(world)\n",
    "\n",
    "#mettendo \"country\" in world.update, mi rida un dizionario in cui le chiavi sono gli uri dei paesi e il numero come valore\n",
    "# se metto al posto di \"country\" [2], mi rida un dizionario in cui le chaivi sono i paesi, ma si ripetono e non capisco perchè"
   ]
  },
  {
   "cell_type": "code",
   "execution_count": null,
   "id": "marked-tuition",
   "metadata": {},
   "outputs": [],
   "source": []
  },
  {
   "cell_type": "code",
   "execution_count": null,
   "id": "sharp-monday",
   "metadata": {},
   "outputs": [],
   "source": []
  }
 ],
 "metadata": {
  "kernelspec": {
   "display_name": "Python 3",
   "language": "python",
   "name": "python3"
  },
  "language_info": {
   "codemirror_mode": {
    "name": "ipython",
    "version": 3
   },
   "file_extension": ".py",
   "mimetype": "text/x-python",
   "name": "python",
   "nbconvert_exporter": "python",
   "pygments_lexer": "ipython3",
   "version": "3.9.1"
  }
 },
 "nbformat": 4,
 "nbformat_minor": 5
}
